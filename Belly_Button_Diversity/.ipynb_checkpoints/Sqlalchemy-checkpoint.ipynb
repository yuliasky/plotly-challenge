{
 "cells": [
  {
   "cell_type": "code",
   "execution_count": 1,
   "metadata": {},
   "outputs": [],
   "source": [
    "# Import Matplot lib\n",
    "import matplotlib\n",
    "from matplotlib import style\n",
    "style.use('seaborn')\n",
    "import matplotlib.pyplot as plt"
   ]
  },
  {
   "cell_type": "code",
   "execution_count": 2,
   "metadata": {},
   "outputs": [],
   "source": [
    "import pandas as pd"
   ]
  },
  {
   "cell_type": "code",
   "execution_count": 3,
   "metadata": {},
   "outputs": [],
   "source": [
    "# Import SQLAlchemy `automap` and other dependencies here\n",
    "import sqlalchemy\n",
    "from sqlalchemy.ext.automap import automap_base\n",
    "from sqlalchemy.orm import Session\n",
    "from sqlalchemy import create_engine, inspect, func"
   ]
  },
  {
   "cell_type": "code",
   "execution_count": 6,
   "metadata": {},
   "outputs": [],
   "source": [
    "# Create an engine for the `emoji.sqlite` database\n",
    "engine = create_engine(\"sqlite:///DataSets/bellybutton.sqlite\", echo=False)"
   ]
  },
  {
   "cell_type": "code",
   "execution_count": 7,
   "metadata": {},
   "outputs": [
    {
     "data": {
      "text/plain": [
       "['sample_metadata', 'samples']"
      ]
     },
     "execution_count": 7,
     "metadata": {},
     "output_type": "execute_result"
    }
   ],
   "source": [
    "# Use the Inspector to explore the database and print the table names\n",
    "inspector = inspect(engine)\n",
    "inspector.get_table_names()"
   ]
  },
  {
   "cell_type": "code",
   "execution_count": 8,
   "metadata": {},
   "outputs": [
    {
     "name": "stdout",
     "output_type": "stream",
     "text": [
      "sample INTEGER\n",
      "EVENT TEXT\n",
      "ETHNICITY TEXT\n",
      "GENDER TEXT\n",
      "AGE REAL\n",
      "WFREQ REAL\n",
      "BBTYPE TEXT\n",
      "LOCATION TEXT\n",
      "COUNTRY012 TEXT\n",
      "ZIP012 TEXT\n",
      "COUNTRY1319 TEXT\n",
      "ZIP1319 TEXT\n",
      "DOG TEXT\n",
      "CAT TEXT\n",
      "IMPSURFACE013 REAL\n",
      "NPP013 REAL\n",
      "MMAXTEMP013 REAL\n",
      "PFC013 REAL\n",
      "IMPSURFACE1319 TEXT\n",
      "NPP1319 REAL\n",
      "MMAXTEMP1319 REAL\n",
      "PFC1319 REAL\n"
     ]
    }
   ],
   "source": [
    "# Use Inspector to print the column names and types\n",
    "columns = inspector.get_columns('sample_metadata')\n",
    "for c in columns:\n",
    "    print(c['name'], c[\"type\"])"
   ]
  },
  {
   "cell_type": "code",
   "execution_count": 9,
   "metadata": {},
   "outputs": [
    {
     "name": "stdout",
     "output_type": "stream",
     "text": [
      "otu_id INTEGER\n",
      "otu_label TEXT\n",
      "940 INTEGER\n",
      "941 INTEGER\n",
      "943 INTEGER\n",
      "944 INTEGER\n",
      "945 INTEGER\n",
      "946 INTEGER\n",
      "947 INTEGER\n",
      "948 INTEGER\n",
      "949 INTEGER\n",
      "950 INTEGER\n",
      "952 INTEGER\n",
      "953 INTEGER\n",
      "954 INTEGER\n",
      "955 INTEGER\n",
      "956 INTEGER\n",
      "958 INTEGER\n",
      "959 INTEGER\n",
      "960 INTEGER\n",
      "961 INTEGER\n",
      "962 INTEGER\n",
      "963 INTEGER\n",
      "964 INTEGER\n",
      "966 INTEGER\n",
      "967 INTEGER\n",
      "968 INTEGER\n",
      "969 INTEGER\n",
      "970 INTEGER\n",
      "971 INTEGER\n",
      "972 INTEGER\n",
      "973 INTEGER\n",
      "974 INTEGER\n",
      "975 INTEGER\n",
      "978 INTEGER\n",
      "1233 INTEGER\n",
      "1234 INTEGER\n",
      "1235 INTEGER\n",
      "1236 INTEGER\n",
      "1237 INTEGER\n",
      "1238 INTEGER\n",
      "1242 INTEGER\n",
      "1243 INTEGER\n",
      "1246 INTEGER\n",
      "1253 INTEGER\n",
      "1254 INTEGER\n",
      "1258 INTEGER\n",
      "1259 INTEGER\n",
      "1260 INTEGER\n",
      "1264 INTEGER\n",
      "1265 INTEGER\n",
      "1273 INTEGER\n",
      "1275 INTEGER\n",
      "1276 INTEGER\n",
      "1277 INTEGER\n",
      "1278 INTEGER\n",
      "1279 INTEGER\n",
      "1280 INTEGER\n",
      "1281 INTEGER\n",
      "1282 INTEGER\n",
      "1283 INTEGER\n",
      "1284 INTEGER\n",
      "1285 INTEGER\n",
      "1286 INTEGER\n",
      "1287 INTEGER\n",
      "1288 INTEGER\n",
      "1289 INTEGER\n",
      "1290 INTEGER\n",
      "1291 INTEGER\n",
      "1292 INTEGER\n",
      "1293 INTEGER\n",
      "1294 INTEGER\n",
      "1295 INTEGER\n",
      "1296 INTEGER\n",
      "1297 INTEGER\n",
      "1298 INTEGER\n",
      "1308 INTEGER\n",
      "1309 INTEGER\n",
      "1310 INTEGER\n",
      "1374 INTEGER\n",
      "1415 INTEGER\n",
      "1439 INTEGER\n",
      "1441 INTEGER\n",
      "1443 INTEGER\n",
      "1486 INTEGER\n",
      "1487 INTEGER\n",
      "1489 INTEGER\n",
      "1490 INTEGER\n",
      "1491 INTEGER\n",
      "1494 INTEGER\n",
      "1495 INTEGER\n",
      "1497 INTEGER\n",
      "1499 INTEGER\n",
      "1500 INTEGER\n",
      "1501 INTEGER\n",
      "1502 INTEGER\n",
      "1503 INTEGER\n",
      "1504 INTEGER\n",
      "1505 INTEGER\n",
      "1506 INTEGER\n",
      "1507 INTEGER\n",
      "1508 INTEGER\n",
      "1510 INTEGER\n",
      "1511 INTEGER\n",
      "1512 INTEGER\n",
      "1513 INTEGER\n",
      "1514 INTEGER\n",
      "1515 INTEGER\n",
      "1516 INTEGER\n",
      "1517 INTEGER\n",
      "1518 INTEGER\n",
      "1519 INTEGER\n",
      "1521 INTEGER\n",
      "1524 INTEGER\n",
      "1526 INTEGER\n",
      "1527 INTEGER\n",
      "1530 INTEGER\n",
      "1531 INTEGER\n",
      "1532 INTEGER\n",
      "1533 INTEGER\n",
      "1534 INTEGER\n",
      "1535 INTEGER\n",
      "1536 INTEGER\n",
      "1537 INTEGER\n",
      "1539 INTEGER\n",
      "1540 INTEGER\n",
      "1541 INTEGER\n",
      "1542 INTEGER\n",
      "1543 INTEGER\n",
      "1544 INTEGER\n",
      "1545 INTEGER\n",
      "1546 INTEGER\n",
      "1547 INTEGER\n",
      "1548 INTEGER\n",
      "1549 INTEGER\n",
      "1550 INTEGER\n",
      "1551 INTEGER\n",
      "1552 INTEGER\n",
      "1553 INTEGER\n",
      "1554 INTEGER\n",
      "1555 INTEGER\n",
      "1556 INTEGER\n",
      "1557 INTEGER\n",
      "1558 INTEGER\n",
      "1561 INTEGER\n",
      "1562 INTEGER\n",
      "1563 INTEGER\n",
      "1564 INTEGER\n",
      "1572 INTEGER\n",
      "1573 INTEGER\n",
      "1574 INTEGER\n",
      "1576 INTEGER\n",
      "1577 INTEGER\n",
      "1581 INTEGER\n",
      "1601 INTEGER\n"
     ]
    }
   ],
   "source": [
    "# Use Inspector to print the column names and types\n",
    "columns = inspector.get_columns('samples')\n",
    "for c in columns:\n",
    "    print(c['name'], c[\"type\"])"
   ]
  },
  {
   "cell_type": "code",
   "execution_count": null,
   "metadata": {},
   "outputs": [],
   "source": []
  }
 ],
 "metadata": {
  "kernelspec": {
   "display_name": "Python 3",
   "language": "python",
   "name": "python3"
  },
  "language_info": {
   "codemirror_mode": {
    "name": "ipython",
    "version": 3
   },
   "file_extension": ".py",
   "mimetype": "text/x-python",
   "name": "python",
   "nbconvert_exporter": "python",
   "pygments_lexer": "ipython3",
   "version": "3.6.8"
  }
 },
 "nbformat": 4,
 "nbformat_minor": 2
}
